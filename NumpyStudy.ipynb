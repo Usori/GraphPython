{
 "cells": [
  {
   "cell_type": "code",
   "execution_count": 28,
   "metadata": {
    "code_folding": [
     0
    ]
   },
   "outputs": [],
   "source": [
    "#Code\n",
    "import numpy as np\n",
    "\n",
    "A = np.array([[0,4],[-1,3]])\n",
    "B = np.array([[3,-8],[0,1]])\n",
    "C = np.array([[0,1],[6,1]])\n",
    "\n",
    "At = np.transpose(A)\n",
    "Bt = np.transpose(B)\n",
    "Ct = np.transpose(C)\n",
    "\n",
    "\n",
    "R1 = np.transpose(np.dot(np.dot(A,B),C))\n",
    "R2 = np.dot(np.dot(Ct,Bt),At)\n",
    "\n",
    "AB = np.dot(A,B)\n",
    "ABC = np.dot(AB,C)\n",
    "ABCt = np.transpose(ABC)\n",
    "\n",
    "CtBt = np.dot(Ct,Bt)\n",
    "CtBtAt = np.dot(CtBt,At)"
   ]
  },
  {
   "cell_type": "markdown",
   "metadata": {},
   "source": [
    "![](img/matrix_transpose_problem.jpg)\n",
    "\n",
    "\n"
   ]
  },
  {
   "cell_type": "code",
   "execution_count": 34,
   "metadata": {
    "code_folding": [
     0
    ],
    "scrolled": true
   },
   "outputs": [
    {
     "name": "stdout",
     "output_type": "stream",
     "text": [
      "(A·B·C)^t =\n",
      "[[24 66]\n",
      " [ 4  8]]\n",
      "\n",
      "C^t · B^t · A^t =\n",
      "[[24 66]\n",
      " [ 4  8]]\n",
      "\n",
      "Therefore we show that (A·B·C)^t = C^t · B^t · A^t in this case.\n"
     ]
    }
   ],
   "source": [
    "#Simple Solution\n",
    "\n",
    "print('(A·B·C)^t =')\n",
    "\n",
    "print(R1,end='\\n\\n')\n",
    "\n",
    "print('C^t · B^t · A^t =')\n",
    "\n",
    "print(R2,end='\\n\\n')\n",
    "\n",
    "print('Therefore we show that (A·B·C)^t = C^t · B^t · A^t in this case.')\n",
    "\n",
    "#print('-'*72+'\\n')"
   ]
  },
  {
   "cell_type": "code",
   "execution_count": 35,
   "metadata": {
    "code_folding": [
     0
    ],
    "scrolled": true
   },
   "outputs": [
    {
     "name": "stdout",
     "output_type": "stream",
     "text": [
      "Let's show the previous steps detailed.\n",
      "\n",
      "A·B = \n",
      "[[ 0  4]\n",
      " [-3 11]]\n",
      "\n",
      "(A·B)·C = \n",
      "[[24  4]\n",
      " [66  8]]\n",
      "\n",
      "(A·B·C)^t = \n",
      "[[24 66]\n",
      " [ 4  8]]\n",
      "\n"
     ]
    }
   ],
   "source": [
    "#Previous steps detailed, (A·B·C)^t\n",
    "print('Let\\'s show the previous steps detailed.\\n')\n",
    "\n",
    "\n",
    "print(f'A·B = \\n{AB}\\n')\n",
    "\n",
    "\n",
    "print(f'(A·B)·C = \\n{ABC}\\n')\n",
    "\n",
    "\n",
    "print(f'(A·B·C)^t = \\n{ABCt}\\n')"
   ]
  },
  {
   "cell_type": "code",
   "execution_count": 37,
   "metadata": {
    "code_folding": [
     0
    ]
   },
   "outputs": [
    {
     "name": "stdout",
     "output_type": "stream",
     "text": [
      "C^t = \n",
      "[[0 6]\n",
      " [1 1]]\n",
      "\n",
      "B^t = \n",
      "[[ 3  0]\n",
      " [-8  1]]\n",
      "\n",
      "A^t = \n",
      "[[ 0 -1]\n",
      " [ 4  3]]\n",
      "\n",
      "C^t · B^t = \n",
      "[[-48   6]\n",
      " [ -5   1]]\n",
      "\n",
      "C^t · B^t · A^t = \n",
      "[[24 66]\n",
      " [ 4  8]]\n",
      "\n"
     ]
    }
   ],
   "source": [
    "#Previous steps detailed, C^t · B^t · A^t\n",
    "print(f'C^t = \\n{Ct}\\n')\n",
    "print(f'B^t = \\n{Bt}\\n')\n",
    "print(f'A^t = \\n{At}\\n')\n",
    "\n",
    "print(f'C^t · B^t = \\n{CtBt}\\n')\n",
    "print(f'C^t · B^t · A^t = \\n{CtBtAt}\\n')"
   ]
  }
 ],
 "metadata": {
  "kernelspec": {
   "display_name": "Python 3",
   "language": "python",
   "name": "python3"
  },
  "language_info": {
   "codemirror_mode": {
    "name": "ipython",
    "version": 3
   },
   "file_extension": ".py",
   "mimetype": "text/x-python",
   "name": "python",
   "nbconvert_exporter": "python",
   "pygments_lexer": "ipython3",
   "version": "3.7.7"
  }
 },
 "nbformat": 4,
 "nbformat_minor": 4
}
