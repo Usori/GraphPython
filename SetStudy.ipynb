{
 "cells": [
  {
   "cell_type": "code",
   "execution_count": 10,
   "metadata": {},
   "outputs": [
    {
     "name": "stdout",
     "output_type": "stream",
     "text": [
      "set_1 :\t\t{1, 2, 3, 4, 5, 6}\n",
      "set_2 :\t\t{2, 3, 4}\n",
      "set_1 - set_2 :\t{1, 5, 6}\n",
      "set_2 - set_1 :\tset()\n"
     ]
    }
   ],
   "source": [
    "s1 = {1,2,3,4,5,6} #supports only immutable elements\n",
    "print(f'set_1 :\\t\\t{s1}')\n",
    "\n",
    "s2 = {2,3,4}\n",
    "print(f'set_2 :\\t\\t{s2}')\n",
    "\n",
    "print(f'set_1 - set_2 :\\t{s1-s2}')\n",
    "print(f'set_2 - set_1 :\\t{s2-s1}')"
   ]
  }
 ],
 "metadata": {
  "kernelspec": {
   "display_name": "Python 3",
   "language": "python",
   "name": "python3"
  },
  "language_info": {
   "codemirror_mode": {
    "name": "ipython",
    "version": 3
   },
   "file_extension": ".py",
   "mimetype": "text/x-python",
   "name": "python",
   "nbconvert_exporter": "python",
   "pygments_lexer": "ipython3",
   "version": "3.7.7"
  }
 },
 "nbformat": 4,
 "nbformat_minor": 4
}
