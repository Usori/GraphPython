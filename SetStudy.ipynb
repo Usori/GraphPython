{
 "cells": [
  {
   "cell_type": "code",
   "execution_count": 1,
   "metadata": {
    "scrolled": true
   },
   "outputs": [
    {
     "name": "stdout",
     "output_type": "stream",
     "text": [
      "set_1 :\t\t{1, 2, 3, 4, 5, 6}\n",
      "set_2 :\t\t{2, 3, 4}\n",
      "set_1 - set_2 :\t{1, 5, 6}\n",
      "set_2 - set_1 :\tset()\n"
     ]
    }
   ],
   "source": [
    "s1 = {1,2,3,4,5,6} #supports only immutable elements\n",
    "print(f'set_1 :\\t\\t{s1}')\n",
    "\n",
    "s2 = {2,3,4}\n",
    "print(f'set_2 :\\t\\t{s2}')\n",
    "\n",
    "print(f'set_1 - set_2 :\\t{s1-s2}')\n",
    "print(f'set_2 - set_1 :\\t{s2-s1}')"
   ]
  },
  {
   "cell_type": "code",
   "execution_count": 2,
   "metadata": {},
   "outputs": [
    {
     "name": "stdout",
     "output_type": "stream",
     "text": [
      "1\n",
      "2\n",
      "3\n",
      "4\n",
      "5\n",
      "6\n"
     ]
    }
   ],
   "source": [
    "def show_set(set):\n",
    "    for e in set:\n",
    "        print(e)\n",
    "\n",
    "show_set(s1)"
   ]
  },
  {
   "cell_type": "code",
   "execution_count": 3,
   "metadata": {},
   "outputs": [
    {
     "name": "stdout",
     "output_type": "stream",
     "text": [
      "{1, 2, (1, 2, 3, 'Victor'), 'Teste'}\n",
      "\n",
      "{1, 2, (1, 2, 3, 'Victor')}\n",
      "\n",
      "{1, 2, 'o', 'H', (1, 2, 3, 'Victor'), 'l', 'e'}\n",
      "\n",
      "{1, 2, 'o', 8, 9, 10, 'H', (1, 2, 3, 'Victor'), 'l', 'e'}\n",
      "\n",
      "{1, 2, 'o', 8, 9, 10, 'H', (1, 2, 3, 'Victor'), 'l', 'Alpha, Beta, Gama', 'e'}\n",
      "\n"
     ]
    }
   ],
   "source": [
    "s1 = set()\n",
    "s1.add(1)\n",
    "s1.add(2)\n",
    "s1.add((1,2,3,'Victor'))\n",
    "s1.add('Teste')\n",
    "print(s1, end = '\\n\\n')\n",
    "\n",
    "s1.discard('Teste')\n",
    "print(s1, end = '\\n\\n')\n",
    "\n",
    "s1.update('Hello')\n",
    "print(s1, end = '\\n\\n')\n",
    "\n",
    "s1.update([8,9,10])\n",
    "print(s1, end = '\\n\\n')\n",
    "\n",
    "s2 = {'Alpha, Beta, Gama'}\n",
    "\n",
    "s1.update(s2)\n",
    "print(s1, end = '\\n\\n')"
   ]
  },
  {
   "cell_type": "code",
   "execution_count": 10,
   "metadata": {},
   "outputs": [
    {
     "name": "stdout",
     "output_type": "stream",
     "text": [
      "[8, 2, 1, 4, 3, 2, 1, 4, 7, 8, 3, 2, 5, 6, 0, 9, 1, 4, 2, 'Victor', 'Victor', 'Victor']\n",
      "[0, 1, 2, 3, 4, 5, 6, 7, 8, 9, 'Victor']\n"
     ]
    }
   ],
   "source": [
    "# Removing duplicated elements in a list\n",
    "\n",
    "l1 = [8,2,1,4,3,2,1,4,7,8,3,2,5,6,0,9,1,4,2,'Victor', 'Victor', 'Victor']\n",
    "print(l1) # ignore\n",
    "l1 = set(l1)\n",
    "l1 = list(l1)\n",
    "print(l1) #ignore"
   ]
  }
 ],
 "metadata": {
  "kernelspec": {
   "display_name": "Python 3",
   "language": "python",
   "name": "python3"
  },
  "language_info": {
   "codemirror_mode": {
    "name": "ipython",
    "version": 3
   },
   "file_extension": ".py",
   "mimetype": "text/x-python",
   "name": "python",
   "nbconvert_exporter": "python",
   "pygments_lexer": "ipython3",
   "version": "3.7.7"
  }
 },
 "nbformat": 4,
 "nbformat_minor": 4
}
