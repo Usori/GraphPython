{
 "cells": [
  {
   "cell_type": "code",
   "execution_count": 17,
   "metadata": {},
   "outputs": [
    {
     "name": "stdout",
     "output_type": "stream",
     "text": [
      "HiHi\n"
     ]
    }
   ],
   "source": [
    "def string_times(word, repeat):\n",
    "    return word*repeat\n",
    "\n",
    "\n",
    "palavra = string_times(\"Hi\",2)\n",
    "print(palavra)"
   ]
  },
  {
   "cell_type": "code",
   "execution_count": 15,
   "metadata": {},
   "outputs": [
    {
     "name": "stdout",
     "output_type": "stream",
     "text": [
      "HHeelllloo  WWoorrlldd\n"
     ]
    }
   ],
   "source": [
    "def double_char(word):\n",
    "    word_final = \"\"\n",
    "    for i in range (len(word)):\n",
    "        word_final += word[i]*2\n",
    "    \n",
    "    return word_final\n",
    "        \n",
    "palavra = double_char(\"Hello World\")\n",
    "print(palavra)"
   ]
  },
  {
   "cell_type": "code",
   "execution_count": null,
   "metadata": {},
   "outputs": [],
   "source": []
  }
 ],
 "metadata": {
  "kernelspec": {
   "display_name": "Python 3",
   "language": "python",
   "name": "python3"
  },
  "language_info": {
   "codemirror_mode": {
    "name": "ipython",
    "version": 3
   },
   "file_extension": ".py",
   "mimetype": "text/x-python",
   "name": "python",
   "nbconvert_exporter": "python",
   "pygments_lexer": "ipython3",
   "version": "3.7.7"
  }
 },
 "nbformat": 4,
 "nbformat_minor": 4
}
