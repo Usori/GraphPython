{
 "cells": [
  {
   "cell_type": "code",
   "execution_count": 54,
   "metadata": {},
   "outputs": [
    {
     "name": "stdout",
     "output_type": "stream",
     "text": [
      "[0.66724696]\n"
     ]
    }
   ],
   "source": [
    "import numpy as np"
   ]
  },
  {
   "cell_type": "code",
   "execution_count": 36,
   "metadata": {},
   "outputs": [],
   "source": [
    "def big_valor_closer(accumulated_distribution, pos_a, pos_b, valor):\n",
    "    if pos_b - pos_a <= 1:\n",
    "        return pos_b\n",
    "    \n",
    "    middle = (pos_b+pos_a)//2\n",
    "    \n",
    "    if valor <= accumulated_distribution[middle]:\n",
    "        return big_valor_closer(accumulated_distribution, pos_a, middle, valor)\n",
    "    else:\n",
    "        return big_valor_closer(accumulated_distribution, middle, pos_b, valor)"
   ]
  },
  {
   "cell_type": "code",
   "execution_count": 120,
   "metadata": {
    "code_folding": [
     4,
     10,
     15
    ]
   },
   "outputs": [
    {
     "name": "stdout",
     "output_type": "stream",
     "text": [
      "['Origin', 'Black', 'White', 'Red', 'Blue', 'Yellow']\n",
      "[0, 14, 20, 19, 8, 12]\n",
      "[0.0, 0.19, 0.27, 0.26, 0.11, 0.16]\n",
      "[0.0, 0.19, 0.46, 0.72, 0.83, 1.0]\n"
     ]
    }
   ],
   "source": [
    "labels = ['Black', 'White', 'Red','Blue', 'Yellow']\n",
    "quantity = [14,20,19,8,12]\n",
    "total = 0\n",
    "\n",
    "for valor in quantity:\n",
    "    total += valor\n",
    "    \n",
    "probability = []\n",
    "\n",
    "for valor in quantity:\n",
    "    probability.append(round(valor/total,2))\n",
    "\n",
    "accumulated_distribution = probability.copy()\n",
    "\n",
    "for i in range(0,len(accumulated_distribution)-1):\n",
    "    accumulated_distribution[i+1] += accumulated_distribution[i]\n",
    "accumulated_distribution[len(accumulated_distribution)-1] = 1.0\n",
    "\n",
    "labels = ['Origin'] + labels\n",
    "quantity = [0] + quantity\n",
    "probability = [0.0] + probability\n",
    "accumulated_distribution = [0.0] + accumulated_distribution\n",
    "\n",
    "print(labels)\n",
    "print(quantity)\n",
    "print(probability)\n",
    "print(accumulated_distribution)"
   ]
  },
  {
   "cell_type": "code",
   "execution_count": 121,
   "metadata": {},
   "outputs": [
    {
     "name": "stdout",
     "output_type": "stream",
     "text": [
      "pos: 3\n",
      "closer_value: 0.72\n"
     ]
    }
   ],
   "source": [
    "valor = 0.49 #This valor will be random in the future\n",
    "pos = big_valor_closer(accumulated_distribution, 0, len(accumulated_distribution)-1, valor)\n",
    "closer_value = accumulated_distribution[pos]\n",
    "print(f'pos: {pos}')\n",
    "print(f'closer_value: {closer_value}')"
   ]
  },
  {
   "cell_type": "code",
   "execution_count": 175,
   "metadata": {},
   "outputs": [
    {
     "name": "stdout",
     "output_type": "stream",
     "text": [
      "Red\n"
     ]
    }
   ],
   "source": [
    "valor = np.random.random(1)\n",
    "pos = big_valor_closer(accumulated_distribution, 0, len(accumulated_distribution)-1, valor)\n",
    "closer_value = accumulated_distribution[pos]\n",
    "print(labels[pos])"
   ]
  }
 ],
 "metadata": {
  "hide_input": false,
  "kernelspec": {
   "display_name": "Python 3",
   "language": "python",
   "name": "python3"
  },
  "language_info": {
   "codemirror_mode": {
    "name": "ipython",
    "version": 3
   },
   "file_extension": ".py",
   "mimetype": "text/x-python",
   "name": "python",
   "nbconvert_exporter": "python",
   "pygments_lexer": "ipython3",
   "version": "3.7.7"
  }
 },
 "nbformat": 4,
 "nbformat_minor": 4
}
